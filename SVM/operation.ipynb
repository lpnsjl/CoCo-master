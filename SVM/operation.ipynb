{
 "cells": [
  {
   "cell_type": "code",
   "execution_count": 1,
   "metadata": {},
   "outputs": [],
   "source": [
    "from model import *\n",
    "from scipy import io"
   ]
  },
  {
   "cell_type": "code",
   "execution_count": 2,
   "metadata": {},
   "outputs": [],
   "source": [
    "data = io.loadmat(\"ex6data1.mat\")\n",
    "X = data['X']\n",
    "y = data['y'].flatten()\n",
    "y = np.array([1, 1, 1, 1, 1, 1, 1, 1, 1, 1, 1, 1, 1, 1, 1, 1, 1, 1, 1, 1, 0,\n",
    "              0, 0, 0, 0, 0, 0, 0, 0, 0, 0, 0, 0, 0, 0, 0, 0, 0, 0, 0, 0, 0, 0, 0, 0, 0, 0, 0, 0, 0, 1])"
   ]
  },
  {
   "cell_type": "code",
   "execution_count": 3,
   "metadata": {},
   "outputs": [],
   "source": [
    "# 调整软间隔C, C越大, 拟合程度越高, 泛化能力越弱\n",
    "svm = SVM(X, y, 1, 0.001, ['linear'])"
   ]
  },
  {
   "cell_type": "code",
   "execution_count": 4,
   "metadata": {},
   "outputs": [
    {
     "name": "stdout",
     "output_type": "stream",
     "text": [
      "epochation number: 1\n",
      "epochation number: 2\n",
      "epochation number: 3\n",
      "epochation number: 4\n",
      "epochation number: 5\n",
      "epochation number: 6\n",
      "epochation number: 7\n",
      "epochation number: 8\n",
      "epochation number: 9\n",
      "epochation number: 10\n",
      "epochation number: 11\n",
      "epochation number: 12\n",
      "epochation number: 13\n",
      "epochation number: 14\n",
      "epochation number: 15\n",
      "epochation number: 16\n",
      "epochation number: 17\n",
      "epochation number: 18\n",
      "epochation number: 19\n",
      "epochation number: 20\n",
      "epochation number: 21\n",
      "epochation number: 22\n",
      "epochation number: 23\n",
      "epochation number: 24\n",
      "epochation number: 25\n",
      "epochation number: 26\n",
      "epochation number: 27\n",
      "epochation number: 28\n",
      "epochation number: 29\n",
      "epochation number: 30\n",
      "epochation number: 31\n",
      "epochation number: 32\n",
      "epochation number: 33\n",
      "epochation number: 34\n",
      "epochation number: 35\n",
      "epochation number: 36\n"
     ]
    }
   ],
   "source": [
    "svm.smo(100)"
   ]
  },
  {
   "cell_type": "code",
   "execution_count": 5,
   "metadata": {},
   "outputs": [
    {
     "name": "stdout",
     "output_type": "stream",
     "text": [
      "accuracy: 98.04%\n"
     ]
    }
   ],
   "source": [
    "# 评估精度\n",
    "svm.evaluate(X, y)"
   ]
  },
  {
   "cell_type": "code",
   "execution_count": 6,
   "metadata": {},
   "outputs": [
    {
     "data": {
      "image/png": "[encoded data removed]",
      "text/plain": [
       "<Figure size 432x288 with 1 Axes>"
      ]
     },
     "metadata": {
      "needs_background": "light"
     },
     "output_type": "display_data"
    }
   ],
   "source": [
    "# 展示最大分割线\n",
    "displayData(svm, X, y)"
   ]
  },
  {
   "cell_type": "code",
   "execution_count": 7,
   "metadata": {},
   "outputs": [
    {
     "name": "stdout",
     "output_type": "stream",
     "text": [
      "epochation number: 1\n",
      "epochation number: 2\n",
      "epochation number: 3\n",
      "epochation number: 4\n",
      "epochation number: 5\n",
      "epochation number: 6\n",
      "epochation number: 7\n",
      "epochation number: 8\n",
      "epochation number: 9\n",
      "epochation number: 10\n",
      "epochation number: 11\n",
      "epochation number: 12\n",
      "epochation number: 13\n",
      "epochation number: 14\n",
      "epochation number: 15\n",
      "epochation number: 16\n",
      "epochation number: 17\n",
      "epochation number: 18\n",
      "epochation number: 19\n",
      "epochation number: 20\n",
      "epochation number: 21\n",
      "epochation number: 22\n",
      "epochation number: 23\n",
      "epochation number: 24\n",
      "epochation number: 25\n",
      "epochation number: 26\n",
      "epochation number: 27\n",
      "epochation number: 28\n",
      "epochation number: 29\n",
      "epochation number: 30\n",
      "epochation number: 31\n",
      "epochation number: 32\n",
      "epochation number: 33\n",
      "epochation number: 34\n",
      "epochation number: 35\n",
      "epochation number: 36\n",
      "epochation number: 37\n",
      "epochation number: 38\n",
      "epochation number: 39\n",
      "epochation number: 40\n",
      "epochation number: 41\n",
      "epochation number: 42\n",
      "epochation number: 43\n",
      "epochation number: 44\n",
      "epochation number: 45\n",
      "epochation number: 46\n",
      "epochation number: 47\n",
      "epochation number: 48\n",
      "epochation number: 49\n",
      "epochation number: 50\n",
      "epochation number: 51\n",
      "epochation number: 52\n",
      "epochation number: 53\n",
      "epochation number: 54\n",
      "epochation number: 55\n",
      "epochation number: 56\n",
      "epochation number: 57\n",
      "epochation number: 58\n",
      "epochation number: 59\n",
      "epochation number: 60\n",
      "epochation number: 61\n",
      "epochation number: 62\n",
      "epochation number: 63\n",
      "epochation number: 64\n",
      "epochation number: 65\n",
      "epochation number: 66\n",
      "epochation number: 67\n",
      "epochation number: 68\n",
      "epochation number: 69\n",
      "epochation number: 70\n",
      "epochation number: 71\n",
      "epochation number: 72\n",
      "epochation number: 73\n",
      "epochation number: 74\n",
      "epochation number: 75\n",
      "epochation number: 76\n",
      "epochation number: 77\n",
      "epochation number: 78\n",
      "epochation number: 79\n",
      "epochation number: 80\n",
      "epochation number: 81\n",
      "epochation number: 82\n",
      "epochation number: 83\n",
      "epochation number: 84\n",
      "epochation number: 85\n",
      "epochation number: 86\n",
      "epochation number: 87\n",
      "epochation number: 88\n",
      "epochation number: 89\n",
      "epochation number: 90\n",
      "epochation number: 91\n",
      "epochation number: 92\n",
      "epochation number: 93\n",
      "epochation number: 94\n",
      "epochation number: 95\n",
      "epochation number: 96\n",
      "epochation number: 97\n",
      "epochation number: 98\n",
      "epochation number: 99\n",
      "epochation number: 100\n"
     ]
    }
   ],
   "source": [
    "# 一组非线性样本\n",
    "data = io.loadmat(\"ex6data2.mat\")\n",
    "X = data['X']\n",
    "y = data['y'].flatten()\n",
    "svm = SVM(X, y, 1, 0.001, ['rbf', 0.15])\n",
    "svm.smo(100)"
   ]
  },
  {
   "cell_type": "code",
   "execution_count": 8,
   "metadata": {},
   "outputs": [
    {
     "name": "stdout",
     "output_type": "stream",
     "text": [
      "accuracy: 95.83%\n"
     ]
    }
   ],
   "source": [
    "# 非线性样本精度\n",
    "svm.evaluate(X, y)"
   ]
  },
  {
   "cell_type": "code",
   "execution_count": null,
   "metadata": {},
   "outputs": [],
   "source": []
  }
 ],
 "metadata": {
  "kernelspec": {
   "display_name": "Python 3",
   "language": "python",
   "name": "python3"
  },
  "language_info": {
   "codemirror_mode": {
    "name": "ipython",
    "version": 3
   },
   "file_extension": ".py",
   "mimetype": "text/x-python",
   "name": "python",
   "nbconvert_exporter": "python",
   "pygments_lexer": "ipython3",
   "version": "3.5.2"
  }
 },
 "nbformat": 4,
 "nbformat_minor": 1
}
